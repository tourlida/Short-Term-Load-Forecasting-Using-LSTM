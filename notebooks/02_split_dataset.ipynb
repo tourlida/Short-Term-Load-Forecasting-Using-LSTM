{
 "cells": [
  {
   "cell_type": "code",
   "execution_count": 1,
   "metadata": {},
   "outputs": [],
   "source": [
    "import pandas as pd\n",
    "import numpy as np\n",
    "from sklearn.preprocessing import MinMaxScaler\n",
    "import tensorflow as tf\n",
    "import matplotlib.pyplot as plt\n",
    "import math\n",
    "from scipy import stats"
   ]
  },
  {
   "cell_type": "markdown",
   "metadata": {},
   "source": [
    "Take processed data and split them into train and test in order to prepare them for weather correction and load forecasting"
   ]
  },
  {
   "cell_type": "code",
   "execution_count": 2,
   "metadata": {},
   "outputs": [],
   "source": [
    "data_df = pd.read_csv('../data/processed/covid-data/covid_dataset_final_with_daily_pattern.csv', parse_dates=['Time'], index_col='Time')"
   ]
  },
  {
   "cell_type": "code",
   "execution_count": 3,
   "metadata": {},
   "outputs": [
    {
     "data": {
      "text/plain": [
       "Index(['Temperature (C)', 'Wind Direction (deg)', 'Wind Speed (kmh)',\n",
       "       'Forecast_Temperature (C)', 'Forecast_Wind Direction (deg)',\n",
       "       'Forecast_Wind Speed (kmh)', 'hour_of_day_sin', 'hour_of_day_cos',\n",
       "       'Load (kW)'],\n",
       "      dtype='object')"
      ]
     },
     "execution_count": 3,
     "metadata": {},
     "output_type": "execute_result"
    }
   ],
   "source": [
    "data_df.columns"
   ]
  },
  {
   "cell_type": "code",
   "execution_count": 4,
   "metadata": {},
   "outputs": [],
   "source": [
    "actual_data_columns = ['Temperature (C)', 'Wind Direction (deg)', 'Wind Speed (kmh)','hour_of_day_sin', 'hour_of_day_cos','Load (kW)']\n",
    "forecast_data_columns = ['Forecast_Temperature (C)', 'Forecast_Wind Direction (deg)',\n",
    "       'Forecast_Wind Speed (kmh)','hour_of_day_sin', 'hour_of_day_cos','Load (kW)']"
   ]
  },
  {
   "cell_type": "code",
   "execution_count": null,
   "metadata": {},
   "outputs": [],
   "source": []
  },
  {
   "cell_type": "code",
   "execution_count": 5,
   "metadata": {},
   "outputs": [],
   "source": [
    "train_size = 0.9\n",
    "num_samples = len(data_df)\n",
    "train_end = int(num_samples * train_size)\n",
    "\n",
    "train_data = data_df.iloc[:train_end]\n",
    "test_data = data_df.iloc[train_end:]"
   ]
  },
  {
   "cell_type": "code",
   "execution_count": 6,
   "metadata": {},
   "outputs": [],
   "source": [
    "train_data_actuals = train_data.loc[:, actual_data_columns]\n",
    "test_data_actuals = test_data.loc[:, actual_data_columns]\n",
    "test_data_forecasts = test_data.loc[:, forecast_data_columns]"
   ]
  },
  {
   "cell_type": "code",
   "execution_count": 7,
   "metadata": {},
   "outputs": [],
   "source": [
    "test_data_actuals.to_csv('../data/processed/covid-data/test/covid_dataset_actuals_test.csv')\n",
    "test_data_forecasts.to_csv('../data/processed/covid-data/test/covid_dataset_forecasts_test.csv')\n",
    "train_data_actuals.to_csv('../data/processed/covid-data/train/covid_dataset_actuals_train.csv')\n",
    "train_data.to_csv('../data/processed/covid-data/train/covid_dataset_train.csv')\n",
    "test_data.to_csv('../data/processed/covid-data/test/covid_dataset_test.csv')"
   ]
  }
 ],
 "metadata": {
  "kernelspec": {
   "display_name": "Python 3",
   "language": "python",
   "name": "python3"
  },
  "language_info": {
   "codemirror_mode": {
    "name": "ipython",
    "version": 3
   },
   "file_extension": ".py",
   "mimetype": "text/x-python",
   "name": "python",
   "nbconvert_exporter": "python",
   "pygments_lexer": "ipython3",
   "version": "3.12.4"
  }
 },
 "nbformat": 4,
 "nbformat_minor": 2
}
