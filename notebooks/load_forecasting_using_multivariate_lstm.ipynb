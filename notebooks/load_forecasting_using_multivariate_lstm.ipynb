{
 "cells": [
  {
   "cell_type": "code",
   "execution_count": null,
   "metadata": {},
   "outputs": [],
   "source": [
    "import pandas as pd\n",
    "import numpy as np\n",
    "from sklearn.preprocessing import MinMaxScaler\n",
    "import tensorflow as tf\n",
    "import matplotlib.pyplot as plt\n",
    "import math\n",
    "from joblib import dump\n",
    "from tensorflow.keras.models import Sequential\n",
    "from tensorflow.keras.callbacks import EarlyStopping, ModelCheckpoint\n",
    "from tensorflow.keras.layers import LSTM, Dense, Dropout"
   ]
  },
  {
   "cell_type": "code",
   "execution_count": null,
   "metadata": {},
   "outputs": [],
   "source": [
    "def plot_seasonal_comparison(test_index, ys_test_rescaled, predictions_rescaled):\n",
    "    \"\"\"\n",
    "    Plot the average actual and forecasted load for each season.\n",
    "\n",
    "    Parameters:\n",
    "    - test_index: Datetime index for the test data.\n",
    "    - ys_test_rescaled: Rescaled actual test values.\n",
    "    - predictions_rescaled: Rescaled forecasted values.\n",
    "    \"\"\"\n",
    "    # Create a DataFrame to hold the test and prediction data\n",
    "    data = pd.DataFrame({\n",
    "        'Actual': ys_test_rescaled.flatten(),\n",
    "        'Predicted': predictions_rescaled.flatten()\n",
    "    }, index=test_index)\n",
    "    \n",
    "    # Add a 'Season' column to the DataFrame\n",
    "    data['Month'] = data.index.month\n",
    "    data['Season'] = data['Month'].apply(lambda x: (\n",
    "        'Winter' if x in [12, 1, 2] else\n",
    "        'Spring' if x in [3, 4, 5] else\n",
    "        'Summer' if x in [6, 7, 8] else\n",
    "        'Autumn'\n",
    "    ))\n",
    "    \n",
    "    # Group by season and calculate the mean for actual and predicted values\n",
    "    seasonal_data = data.groupby('Season').mean()\n",
    "    \n",
    "    # Plot the seasonal comparison\n",
    "    plt.figure(figsize=(12, 6))\n",
    "    plt.plot(seasonal_data.index, seasonal_data['Actual'], label='Actual Load', marker='o')\n",
    "    plt.plot(seasonal_data.index, seasonal_data['Predicted'], label='Forecasted Load', marker='o')\n",
    "    plt.xlabel('Season')\n",
    "    plt.ylabel('Average Load')\n",
    "    plt.title('Average Actual Load and Forecasted Load by Season')\n",
    "    plt.legend()\n",
    "    plt.grid(True)\n",
    "    plt.show()"
   ]
  },
  {
   "cell_type": "code",
   "execution_count": null,
   "metadata": {},
   "outputs": [],
   "source": [
    "def plot_monthly_comparison(test_index, ys_test_rescaled, predictions_rescaled):\n",
    "    \"\"\"\n",
    "    Plot the average actual and forecasted load by month.\n",
    "\n",
    "    Parameters:\n",
    "    - test_index: Datetime index for the test data.\n",
    "    - ys_test_rescaled: Rescaled actual test values.\n",
    "    - predictions_rescaled: Rescaled forecasted values.\n",
    "    \"\"\"\n",
    "    # Create a DataFrame to hold the test and prediction data\n",
    "    data = pd.DataFrame({\n",
    "        'Actual': ys_test_rescaled.flatten(),\n",
    "        'Predicted': predictions_rescaled.flatten()\n",
    "    }, index=test_index)\n",
    "    \n",
    "    # Add a 'Month' column to the DataFrame\n",
    "    data['Month'] = data.index.month\n",
    "\n",
    "    # Group by month and calculate the mean for actual and predicted values\n",
    "    monthly_data = data.groupby('Month').mean()\n",
    "\n",
    "    # Create month labels corresponding to the months present in the dataset\n",
    "    month_labels = ['Jan', 'Feb', 'Mar', 'Apr', 'May', 'Jun', 'Jul', 'Aug', 'Sep', 'Oct', 'Nov', 'Dec']\n",
    "    available_months = monthly_data.index\n",
    "    available_labels = [month_labels[month - 1] for month in available_months]\n",
    "\n",
    "    # Plot the monthly comparison\n",
    "    plt.figure(figsize=(12, 6))\n",
    "    plt.plot(monthly_data.index, monthly_data['Actual'], label='Actual Load', marker='o')\n",
    "    plt.plot(monthly_data.index, monthly_data['Predicted'], label='Forecasted Load', marker='o')\n",
    "    plt.xlabel('Month')\n",
    "    plt.ylabel('Average Load')\n",
    "    plt.title('Average Actual Load and Forecasted Load by Month')\n",
    "    plt.xticks(ticks=monthly_data.index, labels=available_labels)\n",
    "    plt.legend()\n",
    "    plt.grid(True)\n",
    "    plt.show()"
   ]
  },
  {
   "cell_type": "code",
   "execution_count": null,
   "metadata": {},
   "outputs": [],
   "source": [
    "def plot_weekday_comparison(test_index, ys_test_rescaled, predictions_rescaled):\n",
    "    \"\"\"\n",
    "    Plot the average actual and forecasted load by day of the week.\n",
    "\n",
    "    Parameters:\n",
    "    - test_index: Datetime index for the test data.\n",
    "    - ys_test_rescaled: Rescaled actual test values.\n",
    "    - predictions_rescaled: Rescaled forecasted values.\n",
    "    \"\"\"\n",
    "    # Create a DataFrame to hold the test and prediction data\n",
    "    data = pd.DataFrame({\n",
    "        'Actual': ys_test_rescaled.flatten(),\n",
    "        'Predicted': predictions_rescaled.flatten()\n",
    "    }, index=test_index)\n",
    "    \n",
    "    # Add a 'DayOfWeek' column to the DataFrame\n",
    "    data['DayOfWeek'] = data.index.dayofweek\n",
    "\n",
    "    # Group by day of the week and calculate the mean for actual and predicted values\n",
    "    weekday_data = data.groupby('DayOfWeek').mean()\n",
    "\n",
    "    # Create day labels corresponding to the days of the week\n",
    "    day_labels = ['Monday', 'Tuesday', 'Wednesday', 'Thursday', 'Friday', 'Saturday', 'Sunday']\n",
    "    available_days = weekday_data.index\n",
    "    available_day_labels = [day_labels[day] for day in available_days]\n",
    "\n",
    "    # Plot the weekday comparison\n",
    "    plt.figure(figsize=(12, 6))\n",
    "    plt.plot(weekday_data.index, weekday_data['Actual'], label='Actual Load', marker='o')\n",
    "    plt.plot(weekday_data.index, weekday_data['Predicted'], label='Forecasted Load', marker='o')\n",
    "    plt.xlabel('Day of the Week')\n",
    "    plt.ylabel('Average Load')\n",
    "    plt.title('Average Actual Load and Forecasted Load by Day of the Week')\n",
    "    plt.xticks(ticks=weekday_data.index, labels=available_day_labels)\n",
    "    plt.legend()\n",
    "    plt.grid(True)\n",
    "    plt.show()\n"
   ]
  },
  {
   "cell_type": "code",
   "execution_count": null,
   "metadata": {},
   "outputs": [],
   "source": [
    "def plot_hourly_comparison(test_index, ys_test_rescaled, predictions_rescaled):\n",
    "    \"\"\"\n",
    "    Plot the average actual and forecasted load by hour of the day.\n",
    "\n",
    "    Parameters:\n",
    "    - test_index: Datetime index for the test data.\n",
    "    - ys_test_rescaled: Rescaled actual test values.\n",
    "    - predictions_rescaled: Rescaled forecasted values.\n",
    "    \"\"\"\n",
    "    # Create a DataFrame to hold the test and prediction data\n",
    "    data = pd.DataFrame({\n",
    "        'Actual': ys_test_rescaled.flatten(),\n",
    "        'Predicted': predictions_rescaled.flatten()\n",
    "    }, index=test_index)\n",
    "    \n",
    "    # Add an 'Hour' column to the DataFrame\n",
    "    data['Hour'] = data.index.hour\n",
    "\n",
    "    # Group by hour of the day and calculate the mean for actual and predicted values\n",
    "    hourly_data = data.groupby('Hour').mean()\n",
    "\n",
    "    # Create hour labels corresponding to the hours of the day\n",
    "    available_hours = hourly_data.index\n",
    "    available_hour_labels = [f'{hour}:00' for hour in available_hours]\n",
    "\n",
    "    # Plot the hourly comparison\n",
    "    plt.figure(figsize=(12, 6))\n",
    "    plt.plot(hourly_data.index, hourly_data['Actual'], label='Actual Load', marker='o')\n",
    "    plt.plot(hourly_data.index, hourly_data['Predicted'], label='Forecasted Load', marker='o')\n",
    "    plt.xlabel('Hour of the Day')\n",
    "    plt.ylabel('Average Load')\n",
    "    plt.title('Average Actual Load and Forecasted Load by Hour of the Day')\n",
    "    plt.xticks(ticks=hourly_data.index, labels=available_hour_labels)\n",
    "    plt.legend()\n",
    "    plt.grid(True)\n",
    "    plt.show()"
   ]
  },
  {
   "cell_type": "code",
   "execution_count": null,
   "metadata": {},
   "outputs": [],
   "source": [
    "def plot_results_from_to(test_index, ys_test_rescaled, predictions_rescaled, start_date, end_date):\n",
    "    \"\"\"\n",
    "    Plot the actual and forecasted load for a specified date range.\n",
    "\n",
    "    Parameters:\n",
    "    - test_index: Datetime index for the test data.\n",
    "    - ys_test_rescaled: Rescaled actual test values.\n",
    "    - predictions_rescaled: Rescaled forecasted values.\n",
    "    - start_date: Start date for the plot.\n",
    "    - end_date: End date for the plot.\n",
    "    \"\"\"\n",
    "    # Convert start_date and end_date to datetime if they are strings\n",
    "    if isinstance(start_date, str):\n",
    "        start_date = pd.to_datetime(start_date)\n",
    "    if isinstance(end_date, str):\n",
    "        end_date = pd.to_datetime(end_date)\n",
    "\n",
    "    # Create a boolean mask for the date range\n",
    "    mask = (test_index >= start_date) & (test_index <= end_date)\n",
    "\n",
    "    # Apply the mask to the test data and predictions\n",
    "    time_index = test_index[mask]\n",
    "    ys_test_range = ys_test_rescaled[mask]\n",
    "    predictions_range = predictions_rescaled[mask]\n",
    "\n",
    "    # Plotting the actual and forecasted load for the specified date range\n",
    "    plt.figure(figsize=(24, 5))\n",
    "    plt.plot(time_index, ys_test_range.flatten(), label='Actual Load')\n",
    "    plt.plot(time_index, predictions_range.flatten(), label='Forecasted Load')\n",
    "    plt.xlabel('Time')\n",
    "    plt.ylabel('Load')\n",
    "    plt.title(f'Actual Load and Forecasted Load from {start_date:%Y-%m-%d} to {end_date:%Y-%m-%d}')\n",
    "    plt.legend()\n",
    "\n",
    "    # Customize x-axis to show date and day of the week\n",
    "    plt.xticks(ticks=time_index[::24], labels=[f\"{date:%Y-%m-%d}\\n{date:%A}\" for date in time_index[::24]], rotation=45)\n",
    "    plt.show()\n"
   ]
  },
  {
   "cell_type": "code",
   "execution_count": null,
   "metadata": {},
   "outputs": [],
   "source": [
    "\n",
    "def plot_results(test_index, ys_test_rescaled, predictions_rescaled, hours_to_plot=720):\n",
    "    \"\"\"\n",
    "    Plot the actual and forecasted load for the first month.\n",
    "\n",
    "    Parameters:\n",
    "    - test_index: Datetime index for the test data.\n",
    "    - ys_test_rescaled: Rescaled actual test values.\n",
    "    - predictions_rescaled: Rescaled forecasted values.\n",
    "    - hours_in_month: Number of hours to plot for the first month.\n",
    "    \"\"\"\n",
    "    # Adjust the test index to include only the first month of data\n",
    "    time_index = test_index[:hours_to_plot]\n",
    "    ys_test_first_month = ys_test_rescaled[:hours_to_plot]\n",
    "    predictions_first_month = predictions_rescaled[:hours_to_plot]\n",
    "\n",
    "    # Plotting the initial month of actual and forecasted load\n",
    "    plt.figure(figsize=(24, 5))\n",
    "    plt.plot(time_index, ys_test_first_month.flatten(), label='Actual Load')\n",
    "    plt.plot(time_index, predictions_first_month.flatten(), label='Forecasted Load')\n",
    "    plt.xlabel('Time')\n",
    "    plt.ylabel('Load')\n",
    "    plt.title('Actual Load and Forecasted Load for the First Month')\n",
    "    plt.legend()\n",
    "\n",
    "    # Customize x-axis to show date and day of the week\n",
    "    plt.xticks(ticks=time_index[::24], labels=[f\"{date:%Y-%m-%d}\\n{date:%A}\" for date in time_index[::24]], rotation=45)\n",
    "    plt.show()\n"
   ]
  },
  {
   "cell_type": "code",
   "execution_count": null,
   "metadata": {},
   "outputs": [],
   "source": [
    "def build_and_train_model(xs_train, ys_train, model_config, num_target_features,path_to_save_model):\n",
    "    \"\"\"\n",
    "    Build, train, and evaluate an LSTM model.\n",
    "\n",
    "    Parameters:\n",
    "    - xs_train, ys_train: Training data.\n",
    "    - xs_test, ys_test: Test data.\n",
    "    - model_config: Dictionary containing LSTM layers configuration and other model parameters.\n",
    "    - scaler: Scaler used to scale data.\n",
    "    - num_target_features: Number of output features for the model.\n",
    "\n",
    "    Returns:\n",
    "    - model: Trained LSTM model.\n",
    "    - history: Training history of the model.\n",
    "    - predictions_rescaled: Rescaled predictions.\n",
    "    - ys_test_rescaled: Rescaled actual values.\n",
    "    \"\"\"\n",
    "    # Build the LSTM model\n",
    "    model = Sequential()\n",
    "    input_shape = (xs_train.shape[1], xs_train.shape[2])\n",
    "\n",
    "    for layer_config in model_config['lstm_layers']:\n",
    "        model.add(LSTM(layer_config['units'], return_sequences=layer_config['return_sequences'], input_shape=input_shape if 'input_shape' not in layer_config else None))\n",
    "        input_shape = None  # For subsequent layers, input_shape is not required\n",
    "\n",
    "      # Reset input_shape after first layer\n",
    "        input_shape = None\n",
    "\n",
    "        # Add Dropout layer if specified\n",
    "        if 'dropout' in layer_config:\n",
    "            model.add(Dropout(layer_config['dropout']))\n",
    "    model.add(Dense(num_target_features))\n",
    "    model.compile(optimizer='adam', loss='mse')\n",
    "\n",
    "    # Train the model\n",
    "    # Define the early stopping and model checkpoint callbacks\n",
    "    early_stopping = EarlyStopping(monitor='loss', patience=10, verbose=1, restore_best_weights=True)\n",
    "    checkpoint = ModelCheckpoint(path_to_save_model, monitor='loss', verbose=1, save_best_only=True, mode='min')\n",
    "\n",
    "    history = model.fit(xs_train, ys_train, epochs=model_config.get('epochs', 50), batch_size=model_config.get('batch_size', 32), callbacks=[early_stopping, checkpoint])\n",
    "\n",
    "    return model, history\n"
   ]
  },
  {
   "cell_type": "code",
   "execution_count": null,
   "metadata": {},
   "outputs": [],
   "source": [
    "def create_sequences(data, seq_length, forecast_horizon, target_col):\n",
    "    target_col_index = target_col\n",
    "    xs, ys = [], []\n",
    "    target_col_name = data.columns[target_col_index]  \n",
    "    for i in range(len(data) - seq_length - forecast_horizon + 1):\n",
    "        x = data.iloc[i:(i + seq_length)].values\n",
    "      #  x = data.iloc[i:(i + seq_length)].drop(columns=[target_col_name]).values \n",
    "        y = data.iloc[(i + seq_length):(i + seq_length + forecast_horizon), target_col].values\n",
    "        xs.append(x)\n",
    "        ys.append(y)\n",
    "    return np.array(xs), np.array(ys)"
   ]
  },
  {
   "cell_type": "code",
   "execution_count": null,
   "metadata": {},
   "outputs": [],
   "source": [
    "# Load and preprocess data\n",
    "#data_df = pd.read_csv('../../data/processed/actuals_data.csv', parse_dates=['Time'], index_col='Time')\n",
    "# Dataset with actual weather variables\n",
    "# data_df = pd.read_csv('../data/interim/precovid-data/train/load_with_actual_weather_variables_dataset.csv', parse_dates=['Time'], index_col='Time')\n",
    "\n",
    "# Dataset without COVID-19 with forecasted weather variables\n",
    "data_df = pd.read_csv('../data/interim/precovid-data/train/load_with_forecasted_weather_variables_dataset.csv', parse_dates=['Time'], index_col='Time')\n",
    "\n",
    "#COVID-19 dataset\n",
    "#data_df = pd.read_csv('../data/interim/covid-data/load_with_forecasted_weather_variables_dataset.csv', parse_dates=['Time'], index_col='Time')\n",
    "\n",
    "coloumns_to_drop  = ['Pressure_kpa','Cloud Cover (%)','Wind Direction (deg)']\n",
    "data_df = data_df.drop(columns=coloumns_to_drop)\n",
    "\n",
    "#data preprocessing\n",
    "hour_of_day_col = data_df.index.hour\n",
    "data_df['hour_of_day_sin'] = np.sin(2 * np.pi * hour_of_day_col / 24)\n",
    "data_df['hour_of_day_cos'] = np.cos(2 * np.pi * hour_of_day_col / 24)\n",
    "\n",
    "load_col = data_df.pop('Load (kW)')\n",
    "data_df['Load (kW)'] = load_col\n",
    "\n",
    "target_col = (data_df.columns.get_loc('Load (kW)'))\n",
    "num_target_features = 1\n",
    "scaler_num_features = data_df.shape[1]"
   ]
  },
  {
   "cell_type": "code",
   "execution_count": null,
   "metadata": {},
   "outputs": [],
   "source": [
    "data_df"
   ]
  },
  {
   "cell_type": "code",
   "execution_count": null,
   "metadata": {},
   "outputs": [],
   "source": [
    "#1. Scale data\n",
    "scaler = MinMaxScaler()\n",
    "data_df_scaled = pd.DataFrame(scaler.fit_transform(data_df), columns=data_df.columns, index=data_df.index)"
   ]
  },
  {
   "cell_type": "code",
   "execution_count": null,
   "metadata": {},
   "outputs": [],
   "source": [
    "scaler.feature_names_in_"
   ]
  },
  {
   "cell_type": "code",
   "execution_count": null,
   "metadata": {},
   "outputs": [],
   "source": [
    "# Save the scaler to a file using joblib\n",
    "dump(scaler, '../models/scalers/scaler.joblib')"
   ]
  },
  {
   "cell_type": "code",
   "execution_count": null,
   "metadata": {},
   "outputs": [],
   "source": [
    "\n",
    "#2. Create sequences pairs of input and output\n",
    "#In this case we have to configure the target_col-1 to be the index of the target column in the data_df in order to assign in the ys variable\n",
    "# and have input output pairs of sequences\n",
    "seq_length = 2\n",
    "forecast_horizon = 1\n",
    "xs, ys = create_sequences(data_df_scaled, seq_length, forecast_horizon, target_col)\n",
    "print(xs.shape, ys.shape)"
   ]
  },
  {
   "cell_type": "code",
   "execution_count": null,
   "metadata": {},
   "outputs": [],
   "source": [
    "data_df_scaled"
   ]
  },
  {
   "cell_type": "code",
   "execution_count": null,
   "metadata": {},
   "outputs": [],
   "source": [
    "xs[0]"
   ]
  },
  {
   "cell_type": "code",
   "execution_count": null,
   "metadata": {},
   "outputs": [],
   "source": [
    "ys[0]"
   ]
  },
  {
   "cell_type": "code",
   "execution_count": null,
   "metadata": {},
   "outputs": [],
   "source": [
    "#3. Split data\n",
    "train_size = 0.9\n",
    "num_samples = len(xs)\n",
    "train_end = int(num_samples * train_size)\n",
    "\n",
    "xs_train = xs[:train_end]\n",
    "ys_train = ys[:train_end]\n",
    "xs_test = xs[train_end:]\n",
    "ys_test = ys[train_end:]"
   ]
  },
  {
   "cell_type": "code",
   "execution_count": null,
   "metadata": {},
   "outputs": [],
   "source": [
    "\n",
    "fig, ax = plt.subplots(figsize=(7, 3))\n",
    "data_df.iloc[:train_end]['Load (kW)'].plot(ax=ax, label=\"Train\")\n",
    "data_df.iloc[train_end:]['Load (kW)'].plot(ax=ax, label=\"Test\")\n",
    "ax.legend()"
   ]
  },
  {
   "cell_type": "code",
   "execution_count": null,
   "metadata": {},
   "outputs": [],
   "source": [
    "data_df_scaled"
   ]
  },
  {
   "cell_type": "code",
   "execution_count": null,
   "metadata": {},
   "outputs": [],
   "source": [
    "xs_train"
   ]
  },
  {
   "cell_type": "code",
   "execution_count": null,
   "metadata": {},
   "outputs": [],
   "source": [
    "ys_train"
   ]
  },
  {
   "cell_type": "code",
   "execution_count": null,
   "metadata": {},
   "outputs": [],
   "source": [
    "#4. Define the model configuration\n",
    "model_config = {\n",
    "    'lstm_layers': [\n",
    "        {'units': 64, 'return_sequences': True,'dropout': 0.2},\n",
    "        {'units': 32, 'return_sequences': True,'dropout': 0.2},\n",
    "        {'units': 16, 'return_sequences': False}\n",
    "    ],\n",
    "    'epochs': 300,\n",
    "    'batch_size': 32\n",
    "}"
   ]
  },
  {
   "cell_type": "code",
   "execution_count": null,
   "metadata": {},
   "outputs": [],
   "source": [
    "#5. Build, train, and evaluate the model\n",
    "# multivariate_load_foreacasting_load_temp_included_model_path = '../models/multivariate_load_foreacasting_load_temp_included_model.keras'\n",
    "# num_target_features = 1 # The number of output features for the model only load for now\n",
    "# model, history = build_and_train_model(\n",
    "#     xs_train, ys_train, model_config, num_target_features, path_to_save_model = multivariate_load_foreacasting_load_temp_included_model_path\n",
    "# )\n",
    "multivariate_load_foreacasting_load_temp_included_model_path = '../models/multivariate_load_foreacasting_load_temp_included_model.keras'\n",
    "num_target_features = 1  # The number of output features for the model only load for now\n",
    "\n",
    "# Define the number of experiments\n",
    "num_experiments = 3\n",
    "\n",
    "# Initialize variables to accumulate the total loss and track the best model\n",
    "total_loss = 0\n",
    "best_loss = float('inf')\n",
    "best_model = None\n",
    "\n",
    "for _ in range(num_experiments):\n",
    "    # Build and train the model\n",
    "    model, history = build_and_train_model(\n",
    "        xs_train, ys_train, model_config, num_target_features, path_to_save_model=multivariate_load_foreacasting_load_temp_included_model_path\n",
    "    )\n",
    "    \n",
    "    # Evaluate the model\n",
    "    loss = model.evaluate(xs_test, ys_test, verbose=0)\n",
    "    total_loss += loss\n",
    "    \n",
    "    # Update the best model if the current model's loss is lower than the best loss\n",
    "    if loss < best_loss:\n",
    "        best_loss = loss\n",
    "        best_model = model\n",
    "\n",
    "# Calculate the average loss\n",
    "average_loss = total_loss / num_experiments\n",
    "\n",
    "print(f'Average Test Loss over {num_experiments} experiments: {average_loss}')\n",
    "print(f'Best Loss: {best_loss}')\n",
    "\n",
    "# Save the best model\n",
    "best_model.save(multivariate_load_foreacasting_load_temp_included_model_path)\n",
    "print(f'Best model saved to {multivariate_load_foreacasting_load_temp_included_model_path}')"
   ]
  },
  {
   "cell_type": "code",
   "execution_count": null,
   "metadata": {},
   "outputs": [],
   "source": [
    "# Load the best model from the path into model variable\n",
    "model = tf.keras.models.load_model(multivariate_load_foreacasting_load_temp_included_model_path)\n",
    "print('Best model loaded from path.')"
   ]
  },
  {
   "cell_type": "code",
   "execution_count": null,
   "metadata": {},
   "outputs": [],
   "source": [
    "xs_test.shape"
   ]
  },
  {
   "cell_type": "code",
   "execution_count": null,
   "metadata": {},
   "outputs": [],
   "source": [
    "#5. Build, train, and evaluate the model\n",
    "\n",
    "# Make predictions on the test set\n",
    "predictions_scaled = model.predict(xs_test) # contains only load\n",
    "predictions_scaled"
   ]
  },
  {
   "cell_type": "code",
   "execution_count": null,
   "metadata": {},
   "outputs": [],
   "source": [
    "predictions_scaled"
   ]
  },
  {
   "cell_type": "code",
   "execution_count": null,
   "metadata": {},
   "outputs": [],
   "source": [
    "# Rescale the predictions and actual values\n",
    "# predictions=> contains values for target column (Load)\n",
    "# but our scaler was trained on all columns so we have to inverse transform all columns\n",
    "# so we need to padd with zeros the other columns\n",
    "num_of_missing_training_features = data_df.shape[1] - num_target_features\n",
    "\n",
    "padding_for_missing_training_features = np.zeros((predictions_scaled.shape[0], num_of_missing_training_features))\n",
    "data_to_be_invert_from_scaling = np.hstack([padding_for_missing_training_features, predictions_scaled])\n",
    "data_to_be_invert_from_scaling"
   ]
  },
  {
   "cell_type": "code",
   "execution_count": null,
   "metadata": {},
   "outputs": [],
   "source": [
    "data_to_be_invert_from_scaling"
   ]
  },
  {
   "cell_type": "code",
   "execution_count": null,
   "metadata": {},
   "outputs": [],
   "source": [
    "#Model outputs \n",
    "predictions= scaler.inverse_transform(data_to_be_invert_from_scaling)[:, target_col]\n",
    "predictions"
   ]
  },
  {
   "cell_type": "code",
   "execution_count": null,
   "metadata": {},
   "outputs": [],
   "source": [
    "ys_test"
   ]
  },
  {
   "cell_type": "code",
   "execution_count": null,
   "metadata": {},
   "outputs": [],
   "source": [
    "xs_test.shape"
   ]
  },
  {
   "cell_type": "code",
   "execution_count": null,
   "metadata": {},
   "outputs": [],
   "source": [
    "padding_for_missing_training_features = np.zeros((ys_test.shape[0], num_of_missing_training_features))\n",
    "ys_test_scaled = np.hstack([padding_for_missing_training_features, ys_test])\n",
    "ys_test_scaled\n",
    "ys_test = scaler.inverse_transform(ys_test_scaled)[:,target_col]"
   ]
  },
  {
   "cell_type": "code",
   "execution_count": null,
   "metadata": {},
   "outputs": [],
   "source": [
    "ys_test.shape"
   ]
  },
  {
   "cell_type": "code",
   "execution_count": null,
   "metadata": {},
   "outputs": [],
   "source": [
    "ys_test"
   ]
  },
  {
   "cell_type": "code",
   "execution_count": null,
   "metadata": {},
   "outputs": [],
   "source": [
    "(abs(ys_test-predictions)).sum()"
   ]
  },
  {
   "cell_type": "code",
   "execution_count": null,
   "metadata": {},
   "outputs": [],
   "source": [
    "predictions"
   ]
  },
  {
   "cell_type": "code",
   "execution_count": null,
   "metadata": {},
   "outputs": [],
   "source": [
    "predictions.shape"
   ]
  },
  {
   "cell_type": "code",
   "execution_count": null,
   "metadata": {},
   "outputs": [],
   "source": [
    "#6. Plot the results\n",
    "test_index = data_df.index[-len(xs_test):]\n",
    "hours_to_plot = 24*14 # Approximately one month\n",
    "\n",
    "plot_results(test_index, ys_test, predictions, hours_to_plot=hours_to_plot)"
   ]
  },
  {
   "cell_type": "code",
   "execution_count": null,
   "metadata": {},
   "outputs": [],
   "source": [
    "plot_results_from_to(test_index, ys_test, predictions,'2019-06-01', '2019-07-01')"
   ]
  },
  {
   "cell_type": "code",
   "execution_count": null,
   "metadata": {},
   "outputs": [],
   "source": [
    "# Assuming you have your test_index, ys_test_rescaled, and predictions_rescaled already defined\n",
    "plot_seasonal_comparison(test_index, ys_test, predictions)"
   ]
  },
  {
   "cell_type": "code",
   "execution_count": null,
   "metadata": {},
   "outputs": [],
   "source": [
    "# Assuming you have your test_index, ys_test_rescaled, and predictions_rescaled already defined\n",
    "plot_monthly_comparison(test_index, ys_test, predictions)"
   ]
  },
  {
   "cell_type": "code",
   "execution_count": null,
   "metadata": {},
   "outputs": [],
   "source": [
    "# Assuming you have your test_index, ys_test_rescaled, and predictions_rescaled already defined\n",
    "plot_weekday_comparison(test_index, ys_test, predictions)"
   ]
  },
  {
   "cell_type": "code",
   "execution_count": null,
   "metadata": {},
   "outputs": [],
   "source": [
    "plot_hourly_comparison(test_index, ys_test, predictions)"
   ]
  },
  {
   "cell_type": "code",
   "execution_count": null,
   "metadata": {},
   "outputs": [],
   "source": [
    "model.summary()"
   ]
  },
  {
   "cell_type": "code",
   "execution_count": null,
   "metadata": {},
   "outputs": [],
   "source": [
    "target_col_name = data_df.columns[target_col]\n",
    "predictions_df = pd.DataFrame(predictions, columns=[target_col_name], index=test_index)\n",
    "predictions_df"
   ]
  },
  {
   "cell_type": "code",
   "execution_count": null,
   "metadata": {},
   "outputs": [],
   "source": [
    "data_df.iloc[:train_end]['Load (kW)'].shape"
   ]
  },
  {
   "cell_type": "code",
   "execution_count": null,
   "metadata": {},
   "outputs": [],
   "source": [
    "fig, ax = plt.subplots(figsize=(7, 4))\n",
    "data_df.iloc[:train_end]['Load (kW)'].plot(ax=ax, label=\"Train\")\n",
    "data_df.iloc[train_end:]['Load (kW)'].plot(ax=ax, label=\"Test\")\n",
    "predictions_df.plot(ax=ax, label=\"Forecasted Load\")\n",
    "ax.legend()"
   ]
  }
 ],
 "metadata": {
  "kernelspec": {
   "display_name": "Python 3",
   "language": "python",
   "name": "python3"
  },
  "language_info": {
   "codemirror_mode": {
    "name": "ipython",
    "version": 3
   },
   "file_extension": ".py",
   "mimetype": "text/x-python",
   "name": "python",
   "nbconvert_exporter": "python",
   "pygments_lexer": "ipython3",
   "version": "3.12.4"
  }
 },
 "nbformat": 4,
 "nbformat_minor": 2
}
